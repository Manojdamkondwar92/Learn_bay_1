{
 "cells": [
  {
   "cell_type": "code",
   "execution_count": 2,
   "id": "3db1c2c8",
   "metadata": {},
   "outputs": [],
   "source": [
    "## Fabonachi series\n",
    "# 0,1,1,2,3,5,8....."
   ]
  },
  {
   "cell_type": "code",
   "execution_count": 2,
   "id": "8ef119f1",
   "metadata": {},
   "outputs": [
    {
     "name": "stdout",
     "output_type": "stream",
     "text": [
      "Enter a number : 10\n",
      "Fibonacci sequence:\n",
      "0\n",
      " 1\n",
      " 1\n",
      " 2\n",
      " 3\n",
      " 5\n",
      " 8\n",
      " 13\n",
      " 21\n",
      " 34\n",
      " "
     ]
    }
   ],
   "source": [
    "num = int(input(\"Enter a number : \"))\n",
    "\n",
    "n1, n2 = 0,1\n",
    "count =0\n",
    "if num<=0:\n",
    "    print(\"Enter a positive integer\")\n",
    "\n",
    "elif num ==1:\n",
    "    print(f\"fib value is {num} is {n1}\")\n",
    "\n",
    "else:\n",
    "    print(\"Fibonacci sequence:\")\n",
    "    while count < num:\n",
    "        print(n1, end = \"\\n \")\n",
    "        nth = n1 + n2\n",
    "        # update values\n",
    "        n1 = n2\n",
    "        n2 = nth\n",
    "        count+=1\n",
    "    \n",
    "# print(f\"fib series is : {n}\")\n"
   ]
  },
  {
   "cell_type": "code",
   "execution_count": null,
   "id": "0e8cdbb4",
   "metadata": {},
   "outputs": [],
   "source": []
  },
  {
   "cell_type": "code",
   "execution_count": null,
   "id": "5b30ca5e",
   "metadata": {},
   "outputs": [],
   "source": []
  }
 ],
 "metadata": {
  "kernelspec": {
   "display_name": "Python 3 (ipykernel)",
   "language": "python",
   "name": "python3"
  },
  "language_info": {
   "codemirror_mode": {
    "name": "ipython",
    "version": 3
   },
   "file_extension": ".py",
   "mimetype": "text/x-python",
   "name": "python",
   "nbconvert_exporter": "python",
   "pygments_lexer": "ipython3",
   "version": "3.9.12"
  }
 },
 "nbformat": 4,
 "nbformat_minor": 5
}
